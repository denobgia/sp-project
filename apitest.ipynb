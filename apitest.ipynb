{
 "cells": [
  {
   "cell_type": "code",
   "execution_count": null,
   "metadata": {},
   "outputs": [],
   "source": [
    "from myeia.api import API\n",
    "import pandas as pd\n",
    "import requests\n",
    "import dotenv\n",
    "\n",
    "eia = API()\n",
    "\n",
    "df = eia.get_series_via_route(\n",
    "    route=\"natural-gas/pri/fut\",\n",
    "    series=\"RNGC1\",\n",
    "    frequency=\"daily\",\n",
    "    facet=\"\",\n",
    "    new_name=\"\",\n",
    ")\n",
    "\n",
    "\n",
    "df.head()"
   ]
  }
 ],
 "metadata": {
  "kernelspec": {
   "display_name": "spenv2",
   "language": "python",
   "name": "python3"
  },
  "language_info": {
   "codemirror_mode": {
    "name": "ipython",
    "version": 3
   },
   "file_extension": ".py",
   "mimetype": "text/x-python",
   "name": "python",
   "nbconvert_exporter": "python",
   "pygments_lexer": "ipython3",
   "version": "3.11.2"
  },
  "orig_nbformat": 4
 },
 "nbformat": 4,
 "nbformat_minor": 2
}
